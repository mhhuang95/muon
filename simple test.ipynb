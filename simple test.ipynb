{
 "cells": [
  {
   "cell_type": "code",
   "execution_count": 1,
   "metadata": {},
   "outputs": [],
   "source": [
    "import torch\n",
    "from torch import nn"
   ]
  },
  {
   "cell_type": "code",
   "execution_count": 6,
   "metadata": {},
   "outputs": [],
   "source": [
    "model = nn.Linear(10, 1)"
   ]
  },
  {
   "cell_type": "code",
   "execution_count": 7,
   "metadata": {},
   "outputs": [],
   "source": [
    "from Muon_pytorch import Muon"
   ]
  },
  {
   "cell_type": "code",
   "execution_count": 8,
   "metadata": {},
   "outputs": [],
   "source": [
    "opt = Muon(model.parameters(), lr = 1e-4)"
   ]
  },
  {
   "cell_type": "code",
   "execution_count": 9,
   "metadata": {},
   "outputs": [
    {
     "name": "stdout",
     "output_type": "stream",
     "text": [
      "tensor([-0.1054], grad_fn=<AddBackward0>)\n",
      "tensor([-0.3494], grad_fn=<AddBackward0>)\n",
      "tensor([-0.7432], grad_fn=<AddBackward0>)\n",
      "tensor([-1.1249], grad_fn=<AddBackward0>)\n",
      "tensor([1.0244], grad_fn=<AddBackward0>)\n",
      "tensor([-0.2254], grad_fn=<AddBackward0>)\n",
      "tensor([-0.4954], grad_fn=<AddBackward0>)\n",
      "tensor([0.9162], grad_fn=<AddBackward0>)\n",
      "tensor([-0.9662], grad_fn=<AddBackward0>)\n",
      "tensor([0.1606], grad_fn=<AddBackward0>)\n",
      "tensor([1.0418], grad_fn=<AddBackward0>)\n",
      "tensor([-0.2938], grad_fn=<AddBackward0>)\n",
      "tensor([-0.8955], grad_fn=<AddBackward0>)\n",
      "tensor([-0.5005], grad_fn=<AddBackward0>)\n",
      "tensor([-1.1482], grad_fn=<AddBackward0>)\n",
      "tensor([0.2996], grad_fn=<AddBackward0>)\n",
      "tensor([0.3303], grad_fn=<AddBackward0>)\n",
      "tensor([-0.3352], grad_fn=<AddBackward0>)\n",
      "tensor([1.0392], grad_fn=<AddBackward0>)\n",
      "tensor([1.1593], grad_fn=<AddBackward0>)\n",
      "tensor([0.6625], grad_fn=<AddBackward0>)\n",
      "tensor([-0.0732], grad_fn=<AddBackward0>)\n",
      "tensor([0.0850], grad_fn=<AddBackward0>)\n",
      "tensor([-0.4864], grad_fn=<AddBackward0>)\n",
      "tensor([-0.5295], grad_fn=<AddBackward0>)\n",
      "tensor([-0.0409], grad_fn=<AddBackward0>)\n",
      "tensor([-0.1647], grad_fn=<AddBackward0>)\n",
      "tensor([0.1437], grad_fn=<AddBackward0>)\n",
      "tensor([-0.3837], grad_fn=<AddBackward0>)\n",
      "tensor([0.3602], grad_fn=<AddBackward0>)\n",
      "tensor([0.0185], grad_fn=<AddBackward0>)\n",
      "tensor([-0.5694], grad_fn=<AddBackward0>)\n",
      "tensor([-0.0177], grad_fn=<AddBackward0>)\n",
      "tensor([-0.9145], grad_fn=<AddBackward0>)\n",
      "tensor([-0.5200], grad_fn=<AddBackward0>)\n",
      "tensor([-0.1650], grad_fn=<AddBackward0>)\n",
      "tensor([0.0275], grad_fn=<AddBackward0>)\n",
      "tensor([0.6678], grad_fn=<AddBackward0>)\n",
      "tensor([-0.6273], grad_fn=<AddBackward0>)\n",
      "tensor([0.2163], grad_fn=<AddBackward0>)\n",
      "tensor([-0.4476], grad_fn=<AddBackward0>)\n",
      "tensor([-0.1038], grad_fn=<AddBackward0>)\n",
      "tensor([-0.1291], grad_fn=<AddBackward0>)\n",
      "tensor([0.6880], grad_fn=<AddBackward0>)\n",
      "tensor([0.3803], grad_fn=<AddBackward0>)\n",
      "tensor([-0.2738], grad_fn=<AddBackward0>)\n",
      "tensor([0.0382], grad_fn=<AddBackward0>)\n",
      "tensor([1.0755], grad_fn=<AddBackward0>)\n",
      "tensor([0.3970], grad_fn=<AddBackward0>)\n",
      "tensor([-0.8921], grad_fn=<AddBackward0>)\n",
      "tensor([0.3158], grad_fn=<AddBackward0>)\n",
      "tensor([0.8357], grad_fn=<AddBackward0>)\n",
      "tensor([0.0162], grad_fn=<AddBackward0>)\n",
      "tensor([0.4401], grad_fn=<AddBackward0>)\n",
      "tensor([-0.1159], grad_fn=<AddBackward0>)\n",
      "tensor([-0.4978], grad_fn=<AddBackward0>)\n",
      "tensor([0.2348], grad_fn=<AddBackward0>)\n",
      "tensor([-0.5114], grad_fn=<AddBackward0>)\n",
      "tensor([1.2128], grad_fn=<AddBackward0>)\n",
      "tensor([-0.6284], grad_fn=<AddBackward0>)\n",
      "tensor([-0.9665], grad_fn=<AddBackward0>)\n",
      "tensor([-0.4683], grad_fn=<AddBackward0>)\n",
      "tensor([-0.2093], grad_fn=<AddBackward0>)\n",
      "tensor([1.2712], grad_fn=<AddBackward0>)\n",
      "tensor([-0.3859], grad_fn=<AddBackward0>)\n",
      "tensor([-0.7399], grad_fn=<AddBackward0>)\n",
      "tensor([0.4084], grad_fn=<AddBackward0>)\n",
      "tensor([0.1919], grad_fn=<AddBackward0>)\n",
      "tensor([0.5864], grad_fn=<AddBackward0>)\n",
      "tensor([-0.4762], grad_fn=<AddBackward0>)\n",
      "tensor([0.0904], grad_fn=<AddBackward0>)\n",
      "tensor([0.8805], grad_fn=<AddBackward0>)\n",
      "tensor([-0.2680], grad_fn=<AddBackward0>)\n",
      "tensor([0.6797], grad_fn=<AddBackward0>)\n",
      "tensor([0.6420], grad_fn=<AddBackward0>)\n",
      "tensor([0.1419], grad_fn=<AddBackward0>)\n",
      "tensor([-0.6004], grad_fn=<AddBackward0>)\n",
      "tensor([0.2825], grad_fn=<AddBackward0>)\n",
      "tensor([0.3831], grad_fn=<AddBackward0>)\n",
      "tensor([0.1269], grad_fn=<AddBackward0>)\n",
      "tensor([-1.0521], grad_fn=<AddBackward0>)\n",
      "tensor([-0.6844], grad_fn=<AddBackward0>)\n",
      "tensor([0.0296], grad_fn=<AddBackward0>)\n",
      "tensor([-0.9822], grad_fn=<AddBackward0>)\n",
      "tensor([0.4694], grad_fn=<AddBackward0>)\n",
      "tensor([0.4930], grad_fn=<AddBackward0>)\n",
      "tensor([-0.1118], grad_fn=<AddBackward0>)\n",
      "tensor([0.0987], grad_fn=<AddBackward0>)\n",
      "tensor([-0.7510], grad_fn=<AddBackward0>)\n",
      "tensor([-0.3202], grad_fn=<AddBackward0>)\n",
      "tensor([-0.1427], grad_fn=<AddBackward0>)\n",
      "tensor([0.8983], grad_fn=<AddBackward0>)\n",
      "tensor([-0.2237], grad_fn=<AddBackward0>)\n",
      "tensor([0.7861], grad_fn=<AddBackward0>)\n",
      "tensor([-0.1954], grad_fn=<AddBackward0>)\n",
      "tensor([-0.0362], grad_fn=<AddBackward0>)\n",
      "tensor([0.7238], grad_fn=<AddBackward0>)\n",
      "tensor([0.2710], grad_fn=<AddBackward0>)\n",
      "tensor([0.2851], grad_fn=<AddBackward0>)\n",
      "tensor([-1.2674], grad_fn=<AddBackward0>)\n"
     ]
    }
   ],
   "source": [
    "for _ in range(100):\n",
    "    loss = model(torch.randn(10))\n",
    "    print(loss)\n",
    "    loss.backward()\n",
    "\n",
    "    opt.step()\n",
    "    opt.zero_grad()"
   ]
  },
  {
   "cell_type": "code",
   "execution_count": null,
   "metadata": {},
   "outputs": [],
   "source": []
  },
  {
   "cell_type": "code",
   "execution_count": null,
   "metadata": {},
   "outputs": [],
   "source": []
  }
 ],
 "metadata": {
  "kernelspec": {
   "display_name": "base",
   "language": "python",
   "name": "python3"
  },
  "language_info": {
   "codemirror_mode": {
    "name": "ipython",
    "version": 3
   },
   "file_extension": ".py",
   "mimetype": "text/x-python",
   "name": "python",
   "nbconvert_exporter": "python",
   "pygments_lexer": "ipython3",
   "version": "3.7.10"
  }
 },
 "nbformat": 4,
 "nbformat_minor": 2
}
